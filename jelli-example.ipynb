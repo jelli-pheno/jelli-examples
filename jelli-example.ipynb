{
 "cells": [
  {
   "cell_type": "markdown",
   "id": "2b419f70",
   "metadata": {},
   "source": [
    "# jelli - a JAX-based EFT likelihood: an example notebook"
   ]
  },
  {
   "cell_type": "markdown",
   "id": "596ab26c",
   "metadata": {},
   "source": [
    "In this example notebook we demonstrate the basics of `jelli` on a small subset of the future `smelli 3.0` dataset.\n",
    "\n",
    "To install `jelli`, you can use pip:\n",
    "\n",
    "```bash\n",
    "pip install jelli\n",
    "```\n",
    "\n",
    "This will automatically install the required dependencies, including `rgevolve` - a new package providing RG evolution matrices in various EFTs and bases.\n",
    "\n",
    "For plotting purposes, we will also use `matplotlib` and `flavio.plots`, so please install them as well:\n",
    "\n",
    "```bash\n",
    "pip install matplotlib flavio\n",
    "```"
   ]
  },
  {
   "cell_type": "markdown",
   "id": "a60315ec",
   "metadata": {},
   "source": [
    "## Import jelli"
   ]
  },
  {
   "cell_type": "code",
   "execution_count": 1,
   "id": "f27663c0",
   "metadata": {},
   "outputs": [],
   "source": [
    "from jelli import GlobalLikelihood, ObservableSector"
   ]
  },
  {
   "cell_type": "markdown",
   "id": "e15060ca",
   "metadata": {},
   "source": [
    "## Load the data"
   ]
  },
  {
   "cell_type": "markdown",
   "id": "c6af6e30",
   "metadata": {},
   "source": [
    "This command automatically loads all appropriate data from the `data` folder. This includes:\n",
    "- polynomial observable prediction files (in POPxf compliant .json files, e.g. `bdmumu.json`)\n",
    "- measurement files (in .json files, e.g. `measurements_tails_ee.json`)\n",
    "- theory correlation matrices (in POPxf compliant .hdf5 files, e.g. `th_correlation_matrix.hdf5`)\n",
    "- experimental covariance matrices (in .hdf5 files, e.g. `exp_covariance_matrix.hdf5`)\n",
    "\n",
    "In the background, many things are prepared for efficient evaluation, e.g.:\n",
    "- appropriate RG evolution matrices are extracted for all observable sectors\n",
    "- efficient prediction functions are defined for all observables\n",
    "- data required for evaluating all experimental likelihoods is processed "
   ]
  },
  {
   "cell_type": "code",
   "execution_count": 2,
   "id": "f2230a22",
   "metadata": {},
   "outputs": [],
   "source": [
    "GlobalLikelihood.load('data/')"
   ]
  },
  {
   "cell_type": "markdown",
   "id": "4ef775d5",
   "metadata": {},
   "source": [
    "We can print the names of all loaded observable sectors:"
   ]
  },
  {
   "cell_type": "code",
   "execution_count": 3,
   "id": "0bee3b41",
   "metadata": {},
   "outputs": [
    {
     "data": {
      "text/plain": [
       "['bdee', 'bdmumu', 'tails_ee']"
      ]
     },
     "execution_count": 3,
     "metadata": {},
     "output_type": "execute_result"
    }
   ],
   "source": [
    "ObservableSector.get_all_names()"
   ]
  },
  {
   "cell_type": "markdown",
   "id": "78a67f21",
   "metadata": {},
   "source": [
    "We can print the names of all observables in one observable sector:"
   ]
  },
  {
   "cell_type": "code",
   "execution_count": 4,
   "id": "07f84227",
   "metadata": {},
   "outputs": [
    {
     "data": {
      "text/plain": [
       "['BR(B0->mumu)',\n",
       " 'BR_LHCb(Bs->K*0mumu)',\n",
       " \"('<dBR/dq2>(B+->pimumu)', 2, 4)\",\n",
       " \"('<dBR/dq2>(B+->pimumu)', 15, 22)\",\n",
       " \"('<dBR/dq2>(B+->pimumu)', 4, 6)\"]"
      ]
     },
     "execution_count": 4,
     "metadata": {},
     "output_type": "execute_result"
    }
   ],
   "source": [
    "ObservableSector.get('bdmumu').observable_names"
   ]
  },
  {
   "cell_type": "markdown",
   "id": "bbcf82cd",
   "metadata": {},
   "source": [
    "## Define a GlobalLikelihood instance and evaluate the likelihoods"
   ]
  },
  {
   "cell_type": "markdown",
   "id": "cbadea24",
   "metadata": {},
   "source": [
    "Defining a `GlobalLikelihood` instance requires selecting which EFT and basis we are working in. In this example, we will use the `SMEFT` in the `Warsaw` basis. In the background, the `GlobalLikelihood` instance will automatically select all observable sectors that can have predictions in this EFT and basis (all of them as we also have the SMEFT->WET matching at our disposal), and define all required functions, e.g. a highly efficient likelihood function."
   ]
  },
  {
   "cell_type": "code",
   "execution_count": 5,
   "id": "3d43bd1d",
   "metadata": {},
   "outputs": [],
   "source": [
    "gl = GlobalLikelihood('SMEFT', 'Warsaw')"
   ]
  },
  {
   "cell_type": "markdown",
   "id": "79f04137",
   "metadata": {},
   "source": [
    "The number of observables in this likelihood is:"
   ]
  },
  {
   "cell_type": "code",
   "execution_count": 6,
   "id": "b90457ce",
   "metadata": {},
   "outputs": [
    {
     "data": {
      "text/plain": [
       "216"
      ]
     },
     "execution_count": 6,
     "metadata": {},
     "output_type": "execute_result"
    }
   ],
   "source": [
    "len(gl.observables_gaussian + gl.observables_no_theory_uncertainty)"
   ]
  },
  {
   "cell_type": "markdown",
   "id": "9d8dd6e9",
   "metadata": {},
   "source": [
    "Check that we have rgevolve available:"
   ]
  },
  {
   "cell_type": "code",
   "execution_count": 7,
   "id": "dd714516",
   "metadata": {},
   "outputs": [
    {
     "data": {
      "text/plain": [
       "'rgevolve'"
      ]
     },
     "execution_count": 7,
     "metadata": {},
     "output_type": "execute_result"
    }
   ],
   "source": [
    "gl.basis_mode"
   ]
  },
  {
   "cell_type": "markdown",
   "id": "d05e3db9",
   "metadata": {},
   "source": [
    "We will use a user interface similar to `smelli` here to obtain the log likelihood values for all available likelihoods, and for the global likelihood.\n",
    "\n",
    "As an example, we consider a two parameter scenario with the Wilson coefficients $[C_{qe}]_{1311}$ and $[C_{ed}]_{1113}$."
   ]
  },
  {
   "cell_type": "code",
   "execution_count": 8,
   "id": "3ef090aa",
   "metadata": {},
   "outputs": [
    {
     "data": {
      "text/plain": [
       "{'qe_1311': 1e-08, 'ed_1113': -1e-08}"
      ]
     },
     "execution_count": 8,
     "metadata": {},
     "output_type": "execute_result"
    }
   ],
   "source": [
    "def wc_func(x, y):\n",
    "    return {\n",
    "        'qe_1311': x,\n",
    "        'ed_1113': y,\n",
    "    }\n",
    "wc_func(1e-8, -1e-8)"
   ]
  },
  {
   "cell_type": "markdown",
   "id": "a33c8d64",
   "metadata": {},
   "source": [
    "Assuming the coefficients take the value of $\\pm10^{-8} \\mathrm{GeV}^{-2}$ at the scale of $1000~\\mathrm{GeV}$, we define a parameter point:"
   ]
  },
  {
   "cell_type": "code",
   "execution_count": 9,
   "id": "5ef7e7a3",
   "metadata": {},
   "outputs": [],
   "source": [
    "glp = gl.parameter_point(wc_func(1e-8, -1e-8), 1000.0)"
   ]
  },
  {
   "cell_type": "markdown",
   "id": "88f218dc",
   "metadata": {},
   "source": [
    "Then we can obtain the dictonary of log likelihood (differences with respect to SM) for all likelihoods. Note, that the first time we run this, the likelihood function in the background will be JIT-compiled. \n",
    "\n",
    "The output dictionary is organised so that correlated observable sectors are grouped into tuples, while the rest are simply listed according to their names. The final entry is the global likelihood."
   ]
  },
  {
   "cell_type": "code",
   "execution_count": 10,
   "id": "00079400",
   "metadata": {},
   "outputs": [
    {
     "data": {
      "text/plain": [
       "{('bdee', 'bdmumu'): Array(0.27892427, dtype=float64),\n",
       " 'tails_ee': Array(0.28110913, dtype=float64),\n",
       " 'global': Array(0.5600334, dtype=float64)}"
      ]
     },
     "execution_count": 10,
     "metadata": {},
     "output_type": "execute_result"
    }
   ],
   "source": [
    "glp.log_likelihood_dict()"
   ]
  },
  {
   "cell_type": "markdown",
   "id": "0f7573a3",
   "metadata": {},
   "source": [
    "If we are now interested in other values of these Wilson coefficients, or another scale, or completely different Wilson coefficients in this EFT, we can simply define new parameter points, and evaluate the likelihoods again, which will now be very fast thanks to the JIT compilation."
   ]
  },
  {
   "cell_type": "code",
   "execution_count": 11,
   "id": "3ae0dc38",
   "metadata": {},
   "outputs": [
    {
     "data": {
      "text/plain": [
       "{('bdee', 'bdmumu'): Array(-17.1363649, dtype=float64),\n",
       " 'tails_ee': Array(0.17926978, dtype=float64),\n",
       " 'global': Array(-16.95709513, dtype=float64)}"
      ]
     },
     "execution_count": 11,
     "metadata": {},
     "output_type": "execute_result"
    }
   ],
   "source": [
    "glp = gl.parameter_point(wc_func(0.5*1e-8, -1e-8), 1000.0)  # another value of Wilson coefficients\n",
    "glp.log_likelihood_dict()"
   ]
  },
  {
   "cell_type": "code",
   "execution_count": 12,
   "id": "4b68bfbf",
   "metadata": {},
   "outputs": [
    {
     "data": {
      "text/plain": [
       "{('bdee', 'bdmumu'): Array(-16.88009872, dtype=float64),\n",
       " 'tails_ee': Array(0.17758451, dtype=float64),\n",
       " 'global': Array(-16.70251421, dtype=float64)}"
      ]
     },
     "execution_count": 12,
     "metadata": {},
     "output_type": "execute_result"
    }
   ],
   "source": [
    "glp = gl.parameter_point(wc_func(0.5*1e-8, -1e-8), 3000.0)  # another scale\n",
    "glp.log_likelihood_dict()"
   ]
  },
  {
   "cell_type": "code",
   "execution_count": 13,
   "id": "6b7de9ed",
   "metadata": {},
   "outputs": [
    {
     "data": {
      "text/plain": [
       "{('bdee', 'bdmumu'): Array(-1.39118797, dtype=float64),\n",
       " 'tails_ee': Array(-2.27373675e-13, dtype=float64),\n",
       " 'global': Array(-1.39118797, dtype=float64)}"
      ]
     },
     "execution_count": 13,
     "metadata": {},
     "output_type": "execute_result"
    }
   ],
   "source": [
    "def wc_func_mu(x, y):\n",
    "    return {\n",
    "        'qe_1322': x,  # muons instead of electrons\n",
    "        'ed_2213': y,\n",
    "    }\n",
    "glp = gl.parameter_point(wc_func_mu(5e-10, -5e-10), 1000.0)\n",
    "glp.log_likelihood_dict()"
   ]
  },
  {
   "cell_type": "markdown",
   "id": "d5b8f93f",
   "metadata": {},
   "source": [
    "## Example plot: Interplay between low- and high-energy constraints + RG effects\n",
    "(from arxiv:2212.10497)"
   ]
  },
  {
   "cell_type": "markdown",
   "id": "48465e25",
   "metadata": {},
   "source": [
    "Here we define a few custom likelihoods: these are defined by sets of observables that we wish to include in each likelihood. They are then treated like any other likelihood (e.g. we can plot them), except that they are not separately included in the global likelihood."
   ]
  },
  {
   "cell_type": "code",
   "execution_count": 14,
   "id": "f949f202",
   "metadata": {},
   "outputs": [],
   "source": [
    "custom_likelihoods = {\n",
    "    'bdmumu': ['BR(B0->mumu)', 'BR_LHCb(Bs->K*0mumu)', \"('<dBR/dq2>(B+->pimumu)', 2, 4)\",\n",
    "                \"('<dBR/dq2>(B+->pimumu)', 15, 22)\", \"('<dBR/dq2>(B+->pimumu)', 4, 6)\"],\n",
    "    'bdee': ['BR_Belle(B+->piee)'],\n",
    "}\n",
    "\n",
    "gl2 = GlobalLikelihood(eft='SMEFT', basis='Warsaw', custom_likelihoods=custom_likelihoods)"
   ]
  },
  {
   "cell_type": "markdown",
   "id": "669690e1",
   "metadata": {},
   "source": [
    "We are interested in the scenario in which two Wilson coefficients are active: $[C_{qe}]_{1311}$ and $[C_{ed}]_{1113}$, both at the scale of $1 ~\\mathrm{TeV}$. Note, that this time we also obtain the results of each custom likelihood that we defined above."
   ]
  },
  {
   "cell_type": "code",
   "execution_count": 15,
   "id": "61aac86b",
   "metadata": {},
   "outputs": [
    {
     "data": {
      "text/plain": [
       "{('bdee', 'bdmumu'): Array(-16.07634904, dtype=float64),\n",
       " 'tails_ee': Array(0.43929351, dtype=float64),\n",
       " 'custom_bdee': Array(-16.46138208, dtype=float64),\n",
       " 'custom_bdmumu': Array(0.15099414, dtype=float64),\n",
       " 'global': Array(-15.63705553, dtype=float64)}"
      ]
     },
     "execution_count": 15,
     "metadata": {},
     "output_type": "execute_result"
    }
   ],
   "source": [
    "def wc_func2(x, y):\n",
    "    return {\n",
    "        'qe_1311': x/1000**2,  # this time we conveniently rescale the coefficients inside the function\n",
    "        'ed_1113': y/1000**2,\n",
    "    }\n",
    "\n",
    "glp = gl2.parameter_point(wc_func2(0.01, -0.015), 1000.0)\n",
    "glp.log_likelihood_dict()"
   ]
  },
  {
   "cell_type": "markdown",
   "id": "54258c9e",
   "metadata": {},
   "source": [
    "Minimize the $\\chi^2$ functions to find the best fit points in this scenario:"
   ]
  },
  {
   "cell_type": "code",
   "execution_count": 16,
   "id": "3620d43e",
   "metadata": {},
   "outputs": [],
   "source": [
    "from flavio.math.optimize import minimize"
   ]
  },
  {
   "cell_type": "code",
   "execution_count": 17,
   "id": "bf85b73d",
   "metadata": {},
   "outputs": [],
   "source": [
    "def chi2(x, likelihood):  # not the most efficient way to do this, but works\n",
    "    glp = gl2.parameter_point(wc_func2(x[0], x[1]), 1000.0)\n",
    "    return -2*float(glp.log_likelihood_dict()[likelihood])"
   ]
  },
  {
   "cell_type": "code",
   "execution_count": 18,
   "id": "3899bdac",
   "metadata": {},
   "outputs": [],
   "source": [
    "min_bdee = minimize(chi2, [0.01, -0.01], method='Nelder-Mead', tol=1e-6, args=('custom_bdee',))\n",
    "min_bdmumu = minimize(chi2, [0.01, -0.01], method='Nelder-Mead', tol=1e-6, args=('custom_bdmumu',))\n",
    "min_tails_ee = minimize(chi2, [0.01, -0.01], method='Nelder-Mead', tol=1e-6, args=('tails_ee',))\n",
    "min_global = minimize(chi2, [0.01, -0.01], method='Nelder-Mead', tol=1e-6, args=('global',))"
   ]
  },
  {
   "cell_type": "markdown",
   "id": "c34f3279",
   "metadata": {},
   "source": [
    "Scan the parameter space in two dimensions:"
   ]
  },
  {
   "cell_type": "code",
   "execution_count": 19,
   "id": "8f3f3238",
   "metadata": {},
   "outputs": [],
   "source": [
    "plot_data = gl2.plot_data_2d(\n",
    "    wc_func2,\n",
    "    scale=1000.0,\n",
    "    x_min=-0.06, x_max=0.06,\n",
    "    y_min=-0.06, y_max=0.06,\n",
    "    steps=70,  # (together 70*70 = 4900 points)\n",
    ")"
   ]
  },
  {
   "cell_type": "markdown",
   "id": "fb65f8f0",
   "metadata": {},
   "source": [
    "Now we import the plotting libraries and define a function to return the $\\chi^2$ values corresponding to given confidence levels"
   ]
  },
  {
   "cell_type": "code",
   "execution_count": 20,
   "id": "162cc586",
   "metadata": {},
   "outputs": [],
   "source": [
    "import matplotlib.pyplot as plt\n",
    "import flavio.plots as fpl\n",
    "\n",
    "def sigma(*args, dof=2):\n",
    "    return [fpl.delta_chi2(n_sigma, dof=dof) for n_sigma in args]"
   ]
  },
  {
   "cell_type": "markdown",
   "id": "f316ce47",
   "metadata": {},
   "source": [
    "Notice the narrow flat direction in $B\\to \\pi e e$, the complementary constraints from $pp\\to e e$ and the RG effect from $b\\to d \\mu \\mu$."
   ]
  },
  {
   "cell_type": "code",
   "execution_count": 21,
   "id": "c048624a",
   "metadata": {},
   "outputs": [
    {
     "data": {
      "image/png": "[encoded data removed]",
      "text/plain": [
       "<Figure size 400x400 with 1 Axes>"
      ]
     },
     "metadata": {},
     "output_type": "display_data"
    }
   ],
   "source": [
    "plt.figure(figsize=(4,4))\n",
    "fpl.contour(**plot_data['custom_bdee'], levels=sigma(1, dof=1), label=r'$B \\to \\pi e e$', color='C0', interpolation_factor=1, z_min=min_bdee.fun)\n",
    "fpl.contour(**plot_data['tails_ee'], levels=sigma(1,2, dof=1), label=r'$pp \\to e e$', color='C2', interpolation_factor=1, z_min=min_tails_ee.fun)\n",
    "fpl.contour(**plot_data['custom_bdmumu'], levels=sigma(1,2, dof=2), label=r'$b \\to d \\mu \\mu$', color='C1', interpolation_factor=1, z_min=min_bdmumu.fun)\n",
    "fpl.contour(**plot_data['global'], levels=sigma(1,2, dof=2), label='global', color='C3', interpolation_factor=1, z_min=min_global.fun)\n",
    "plt.xlabel(r'$[C_{qe}]_{1311}$')\n",
    "plt.ylabel(r'$[C_{ed}]_{1113}$')\n",
    "plt.legend(loc='lower left')\n",
    "plt.axvline(0, c='0.6', linewidth=0.6)\n",
    "plt.axhline(0, c='0.6', linewidth=0.6)\n",
    "plt.gca().set_aspect('equal', adjustable='box')\n",
    "plt.xlim(-0.06, 0.06)\n",
    "plt.ylim(-0.06, 0.06)\n",
    "plt.tight_layout()\n",
    "plt.show()"
   ]
  }
 ],
 "metadata": {
  "kernelspec": {
   "display_name": "metal16",
   "language": "python",
   "name": "python3"
  },
  "language_info": {
   "codemirror_mode": {
    "name": "ipython",
    "version": 3
   },
   "file_extension": ".py",
   "mimetype": "text/x-python",
   "name": "python",
   "nbconvert_exporter": "python",
   "pygments_lexer": "ipython3",
   "version": "3.13.0"
  }
 },
 "nbformat": 4,
 "nbformat_minor": 5
}
